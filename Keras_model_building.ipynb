{
  "nbformat": 4,
  "nbformat_minor": 0,
  "metadata": {
    "colab": {
      "name": "Keras model building.ipynb",
      "provenance": [],
      "collapsed_sections": [
        "xrSD_jDjwHO6",
        "hPjZvggrxu0a"
      ],
      "authorship_tag": "ABX9TyOhKaaIrDVoM7ZIAUeKJvIC",
      "include_colab_link": true
    },
    "kernelspec": {
      "name": "python3",
      "display_name": "Python 3"
    },
    "language_info": {
      "name": "python"
    }
  },
  "cells": [
    {
      "cell_type": "markdown",
      "metadata": {
        "id": "view-in-github",
        "colab_type": "text"
      },
      "source": [
        "<a href=\"https://colab.research.google.com/github/TazinMorshed/Deep-learning/blob/main/Keras_model_building.ipynb\" target=\"_parent\"><img src=\"https://colab.research.google.com/assets/colab-badge.svg\" alt=\"Open In Colab\"/></a>"
      ]
    },
    {
      "cell_type": "code",
      "metadata": {
        "id": "MIt_9MJHfWpH"
      },
      "source": [
        "from keras.datasets import imdb"
      ],
      "execution_count": 1,
      "outputs": []
    },
    {
      "cell_type": "code",
      "metadata": {
        "colab": {
          "base_uri": "https://localhost:8080/"
        },
        "id": "BoRZYCrlfkdO",
        "outputId": "c2538472-3227-41c8-b3bd-1ac5ab6507c1"
      },
      "source": [
        "try: \n",
        "  del train_data, train_label\n",
        "  del test_data, test_label\n",
        "  print('Clear previously loaded data')\n",
        "except:\n",
        "  pass\n",
        "\n",
        "(train_data, train_label), (test_data, test_label) = imdb.load_data(num_words=10000)"
      ],
      "execution_count": 3,
      "outputs": [
        {
          "output_type": "stream",
          "text": [
            "<string>:6: VisibleDeprecationWarning: Creating an ndarray from ragged nested sequences (which is a list-or-tuple of lists-or-tuples-or ndarrays with different lengths or shapes) is deprecated. If you meant to do this, you must specify 'dtype=object' when creating the ndarray\n",
            "/usr/local/lib/python3.7/dist-packages/keras/datasets/imdb.py:155: VisibleDeprecationWarning: Creating an ndarray from ragged nested sequences (which is a list-or-tuple of lists-or-tuples-or ndarrays with different lengths or shapes) is deprecated. If you meant to do this, you must specify 'dtype=object' when creating the ndarray\n",
            "  x_train, y_train = np.array(xs[:idx]), np.array(labels[:idx])\n",
            "/usr/local/lib/python3.7/dist-packages/keras/datasets/imdb.py:156: VisibleDeprecationWarning: Creating an ndarray from ragged nested sequences (which is a list-or-tuple of lists-or-tuples-or ndarrays with different lengths or shapes) is deprecated. If you meant to do this, you must specify 'dtype=object' when creating the ndarray\n",
            "  x_test, y_test = np.array(xs[idx:]), np.array(labels[idx:])\n"
          ],
          "name": "stderr"
        }
      ]
    },
    {
      "cell_type": "code",
      "metadata": {
        "id": "f-y-3b8zgoG1"
      },
      "source": [
        "train_data[0]"
      ],
      "execution_count": null,
      "outputs": []
    },
    {
      "cell_type": "code",
      "metadata": {
        "id": "DmYMlKicgyo6"
      },
      "source": [
        "import numpy as np"
      ],
      "execution_count": 5,
      "outputs": []
    },
    {
      "cell_type": "code",
      "metadata": {
        "id": "SN4y1shyhNNy"
      },
      "source": [
        "def vectorize_sequences(sequences, dimension = 10000):\n",
        "  results = np.zeros((len(sequences), dimension))\n",
        "  for i, sequence in enumerate(sequences):\n",
        "    \n",
        "    results[i,sequence] = 1 \n",
        "  return results \n",
        "\n",
        "X_train  = vectorize_sequences(train_data)\n",
        "X_test   = vectorize_sequences(test_label)\n",
        "\n"
      ],
      "execution_count": 17,
      "outputs": []
    },
    {
      "cell_type": "code",
      "metadata": {
        "id": "oBI_kwjHlSS1"
      },
      "source": [
        "y_train = np.asarray(train_label).astype('float32')\n",
        "y_test = np.asarray(test_label).astype('float32')"
      ],
      "execution_count": 18,
      "outputs": []
    },
    {
      "cell_type": "code",
      "metadata": {
        "id": "VVoWQqeilwJV"
      },
      "source": [
        "##Input vector ## Test 0/1 data best case possible\n",
        "##In these cases yse simple stack of fully connnected (dense) layer wuth relU activations\n",
        "\n",
        "##Dense(16,activation = relu) basic \n",
        "\n",
        "##Here 16 means 16 hidden units output = relu(dot(W, input) + bias)\n",
        "##So, the dot product of input with 'W' will project the input onto a 16 dimensional \n",
        "#representation space, then we will add the bias vector b and apply relu activation\n",
        "\n",
        "\n",
        "## Now , having more hidden units meaning higher representational space this will\n",
        "## allow our model to learn more complex representation, but this is computationally \n",
        "## expensive and *most importantly, this will improve performance on the traning data\n",
        "## but not on test data SO OVERFITTING."
      ],
      "execution_count": 19,
      "outputs": []
    },
    {
      "cell_type": "code",
      "metadata": {
        "id": "uYJcZnfys1os"
      },
      "source": [
        "##### Important question to ask\n",
        "## How many layers to use \n",
        "## How many hidden unit to chose for each layer\n",
        "\n",
        "##### THE DECISION\n",
        "## Two intermediate layer with 16 hidden units each\n",
        "## A third layer that will output the scalar prediction from the current data.\n",
        "\n",
        "# The intermediate layer will use relu as their activation function and the\n",
        "# third layer/final layer will use a sigmoid function so that output is a probablity. "
      ],
      "execution_count": 21,
      "outputs": []
    },
    {
      "cell_type": "code",
      "metadata": {
        "colab": {
          "base_uri": "https://localhost:8080/",
          "height": 320
        },
        "id": "RAvEAkICtHdR",
        "outputId": "90242491-4a11-49cb-fe30-563301892889"
      },
      "source": [
        "import matplotlib.pyplot as plt\n",
        "import math\n",
        "\n",
        "x = np.linspace(-10, 10, 1000)\n",
        "y = np.maximum(0, x)\n",
        "\n",
        "plt.figure(figsize=(10, 5))\n",
        "plt.plot(x, y)\n",
        "plt.legend(['Relu'])\n",
        "plt.show()\n"
      ],
      "execution_count": 25,
      "outputs": [
        {
          "output_type": "display_data",
          "data": {
            "image/png": "[encoded data removed]",
            "text/plain": [
              "<Figure size 720x360 with 1 Axes>"
            ]
          },
          "metadata": {
            "tags": [],
            "needs_background": "light"
          }
        }
      ]
    },
    {
      "cell_type": "code",
      "metadata": {
        "colab": {
          "base_uri": "https://localhost:8080/",
          "height": 334
        },
        "id": "c6BE0HjCuZ1B",
        "outputId": "1247e7d9-4822-43e9-f2c9-5cdcd3a1b92e"
      },
      "source": [
        "x = np.linspace(-10, 10, 100)\n",
        "z = 1/(1 + np.exp(-x))\n",
        "\n",
        "plt.figure(figsize=(10, 5))  \n",
        "plt.plot(x, z)\n",
        "plt.xlabel(\"x\")\n",
        "plt.ylabel(\"Sigmoid(X)\")\n",
        "  \n",
        "plt.show()"
      ],
      "execution_count": 26,
      "outputs": [
        {
          "output_type": "display_data",
          "data": {
            "image/png": "[encoded data removed]",
            "text/plain": [
              "<Figure size 720x360 with 1 Axes>"
            ]
          },
          "metadata": {
            "tags": [],
            "needs_background": "light"
          }
        }
      ]
    },
    {
      "cell_type": "code",
      "metadata": {
        "id": "Wk-p-5Rjulvh"
      },
      "source": [
        "# Now what will the model look like, \n",
        "\n",
        "from keras import models\n",
        "from keras import layers \n",
        "\n",
        "model = models.Sequential()\n",
        "model.add(layers.Dense(16, activation='relu', input_shape=(10000,)))\n",
        "model.add(layers.Dense(16, activation='relu'))\n",
        "model.add(layers.Dense(1, activation='sigmoid'))"
      ],
      "execution_count": 29,
      "outputs": []
    },
    {
      "cell_type": "markdown",
      "metadata": {
        "id": "xrSD_jDjwHO6"
      },
      "source": [
        "#Now that we have a model in hand, we now have to choose a loss function and an optimizer. \n",
        "\n"
      ]
    },
    {
      "cell_type": "code",
      "metadata": {
        "id": "pnv_RcMfvhUw"
      },
      "source": [
        "'Since this is an binary classificaiton problem,(output either yes/no) its best to use'\n",
        "## Binary_crossentropy loss function, we could use mean_sqaure_error as well.\n",
        "##Crossentropy is usually the best choice when dealing with models that outputs probablity.\n",
        "\n",
        "# WE are using rmsprop as optimizer (look into this)\n",
        "# and binary crossentropy as loss function"
      ],
      "execution_count": 30,
      "outputs": []
    },
    {
      "cell_type": "code",
      "metadata": {
        "id": "f7lhAUC1wAeI"
      },
      "source": [
        "model.compile(optimizer='rmsprop',\n",
        "              loss='binary_crossentropy',\n",
        "              metrics=['accuracy'])"
      ],
      "execution_count": 33,
      "outputs": []
    },
    {
      "cell_type": "markdown",
      "metadata": {
        "id": "hPjZvggrxu0a"
      },
      "source": [
        "#Configuring the optimizer \n"
      ]
    },
    {
      "cell_type": "code",
      "metadata": {
        "id": "v0vatDEwxsBJ"
      },
      "source": [
        "from keras import optimizers \n",
        "\n",
        "model.compile(optimizer=optimizers.RMSprop(learning_rate=0.001),\n",
        "              loss = 'binary_crossentropy',\n",
        "              metrics= ['accuracy']) "
      ],
      "execution_count": 36,
      "outputs": []
    },
    {
      "cell_type": "markdown",
      "metadata": {
        "id": "uJv2B1Dkyluq"
      },
      "source": [
        "Using custom Losses and metrics\n"
      ]
    },
    {
      "cell_type": "code",
      "metadata": {
        "id": "7xJQ9PRxyazy"
      },
      "source": [
        "from keras import losses\n",
        "from keras import metrics\n",
        "model.compile(optimizer=optimizers.RMSprop(learning_rate=0.001),\n",
        "                loss=losses.binary_crossentropy,\n",
        "                metrics=[metrics.binary_accuracy])"
      ],
      "execution_count": 38,
      "outputs": []
    },
    {
      "cell_type": "markdown",
      "metadata": {
        "id": "Qok6W14ty3t-"
      },
      "source": [
        "#Creating a validation set\n"
      ]
    },
    {
      "cell_type": "code",
      "metadata": {
        "colab": {
          "base_uri": "https://localhost:8080/"
        },
        "id": "rv7sSs1Iyz1Q",
        "outputId": "5a1e7746-c59c-4d68-ad3d-6bd677a91294"
      },
      "source": [
        "x_val = X_train[:10000]\n",
        "partial_x_train = X_train[10000:]\n",
        "X_train.shape"
      ],
      "execution_count": 49,
      "outputs": [
        {
          "output_type": "execute_result",
          "data": {
            "text/plain": [
              "(25000, 10000)"
            ]
          },
          "metadata": {
            "tags": []
          },
          "execution_count": 49
        }
      ]
    },
    {
      "cell_type": "code",
      "metadata": {
        "colab": {
          "base_uri": "https://localhost:8080/"
        },
        "id": "Mxfv7Ub7zFKR",
        "outputId": "d85d4f34-dbf4-41e3-ae1f-0bc14b7f6ef2"
      },
      "source": [
        "x_val.shape"
      ],
      "execution_count": 50,
      "outputs": [
        {
          "output_type": "execute_result",
          "data": {
            "text/plain": [
              "(10000, 10000)"
            ]
          },
          "metadata": {
            "tags": []
          },
          "execution_count": 50
        }
      ]
    },
    {
      "cell_type": "code",
      "metadata": {
        "id": "Apd4ARFBzNWZ"
      },
      "source": [
        "y_val = y_train[:10000]\n",
        "partial_y_train = y_train[10000:]"
      ],
      "execution_count": 51,
      "outputs": []
    },
    {
      "cell_type": "markdown",
      "metadata": {
        "id": "LV7WEo700_6T"
      },
      "source": [
        "#Training out *Model*"
      ]
    },
    {
      "cell_type": "code",
      "metadata": {
        "colab": {
          "base_uri": "https://localhost:8080/"
        },
        "id": "iueRhwwK1g9n",
        "outputId": "01f9a59e-318f-4b36-a7a3-0d42bf05cc7f"
      },
      "source": [
        "model.compile(optimizer='rmsprop',\n",
        "              loss='binary_crossentropy',\n",
        "              metrics=['acc'])\n",
        "\n",
        "\n",
        "# You’ll now train the model for 20 epochs (20 iterations over all samples in the\n",
        "# x_train and y_train tensors), in mini-batches of 512 samples. At the same time,\n",
        "# you’ll monitor loss and accuracy on the 10,000 samples that you set apart. You do so by\n",
        "# passing the validation data as the validation_data argument.\n",
        "\n",
        "history = model.fit(partial_x_train,\n",
        "                    partial_y_train,\n",
        "                    epochs=20,\n",
        "                    batch_size=512,\n",
        "                    validation_data=(x_val, y_val))"
      ],
      "execution_count": 53,
      "outputs": [
        {
          "output_type": "stream",
          "text": [
            "Epoch 1/20\n",
            "30/30 [==============================] - 3s 76ms/step - loss: 0.0187 - acc: 0.9948 - val_loss: 0.7288 - val_acc: 0.8633\n",
            "Epoch 2/20\n",
            "30/30 [==============================] - 1s 45ms/step - loss: 0.0036 - acc: 0.9999 - val_loss: 0.7675 - val_acc: 0.8641\n",
            "Epoch 3/20\n",
            "30/30 [==============================] - 2s 53ms/step - loss: 0.0038 - acc: 0.9996 - val_loss: 0.8125 - val_acc: 0.8633\n",
            "Epoch 4/20\n",
            "30/30 [==============================] - 2s 59ms/step - loss: 0.0020 - acc: 0.9999 - val_loss: 0.8445 - val_acc: 0.8617\n",
            "Epoch 5/20\n",
            "30/30 [==============================] - 1s 49ms/step - loss: 0.0035 - acc: 0.9993 - val_loss: 0.8774 - val_acc: 0.8624\n",
            "Epoch 6/20\n",
            "30/30 [==============================] - 1s 45ms/step - loss: 0.0013 - acc: 0.9999 - val_loss: 0.8970 - val_acc: 0.8610\n",
            "Epoch 7/20\n",
            "30/30 [==============================] - 1s 45ms/step - loss: 0.0017 - acc: 0.9998 - val_loss: 0.9328 - val_acc: 0.8604\n",
            "Epoch 8/20\n",
            "30/30 [==============================] - 2s 54ms/step - loss: 0.0010 - acc: 0.9999 - val_loss: 0.9605 - val_acc: 0.8596\n",
            "Epoch 9/20\n",
            "30/30 [==============================] - 1s 45ms/step - loss: 0.0010 - acc: 0.9998 - val_loss: 1.0112 - val_acc: 0.8592\n",
            "Epoch 10/20\n",
            "30/30 [==============================] - 1s 45ms/step - loss: 5.0860e-04 - acc: 1.0000 - val_loss: 1.0492 - val_acc: 0.8573\n",
            "Epoch 11/20\n",
            "30/30 [==============================] - 1s 46ms/step - loss: 0.0017 - acc: 0.9996 - val_loss: 1.0867 - val_acc: 0.8577\n",
            "Epoch 12/20\n",
            "30/30 [==============================] - 1s 45ms/step - loss: 4.0779e-04 - acc: 1.0000 - val_loss: 1.1064 - val_acc: 0.8570\n",
            "Epoch 13/20\n",
            "30/30 [==============================] - 1s 46ms/step - loss: 2.3956e-04 - acc: 1.0000 - val_loss: 1.2238 - val_acc: 0.8527\n",
            "Epoch 14/20\n",
            "30/30 [==============================] - 1s 47ms/step - loss: 0.0016 - acc: 0.9997 - val_loss: 1.1732 - val_acc: 0.8570\n",
            "Epoch 15/20\n",
            "30/30 [==============================] - 2s 51ms/step - loss: 1.5381e-04 - acc: 1.0000 - val_loss: 1.2018 - val_acc: 0.8575\n",
            "Epoch 16/20\n",
            "30/30 [==============================] - 1s 47ms/step - loss: 5.1193e-04 - acc: 0.9999 - val_loss: 1.2626 - val_acc: 0.8571\n",
            "Epoch 17/20\n",
            "30/30 [==============================] - 2s 60ms/step - loss: 8.9050e-05 - acc: 1.0000 - val_loss: 1.2722 - val_acc: 0.8569\n",
            "Epoch 18/20\n",
            "30/30 [==============================] - 2s 59ms/step - loss: 7.4348e-05 - acc: 1.0000 - val_loss: 1.2947 - val_acc: 0.8567\n",
            "Epoch 19/20\n",
            "30/30 [==============================] - 1s 50ms/step - loss: 7.4503e-05 - acc: 1.0000 - val_loss: 1.3333 - val_acc: 0.8557\n",
            "Epoch 20/20\n",
            "30/30 [==============================] - 1s 45ms/step - loss: 7.6688e-04 - acc: 0.9998 - val_loss: 1.3829 - val_acc: 0.8573\n"
          ],
          "name": "stdout"
        }
      ]
    },
    {
      "cell_type": "markdown",
      "metadata": {
        "id": "kcrrE6-f2gpe"
      },
      "source": [
        "##Plotting the traning and validation loss \n"
      ]
    },
    {
      "cell_type": "code",
      "metadata": {
        "colab": {
          "base_uri": "https://localhost:8080/"
        },
        "id": "5nH96LnZ2Fok",
        "outputId": "ee5f230d-7127-4969-bf24-fbed423e0daa"
      },
      "source": [
        "history_dict = history.history\n",
        "history_dict.keys()"
      ],
      "execution_count": 56,
      "outputs": [
        {
          "output_type": "execute_result",
          "data": {
            "text/plain": [
              "dict_keys(['loss', 'acc', 'val_loss', 'val_acc'])"
            ]
          },
          "metadata": {
            "tags": []
          },
          "execution_count": 56
        }
      ]
    },
    {
      "cell_type": "code",
      "metadata": {
        "colab": {
          "base_uri": "https://localhost:8080/",
          "height": 295
        },
        "id": "9ZkIjqZ32h3h",
        "outputId": "0ee9f6dc-2951-4402-9a3c-3900ed35199f"
      },
      "source": [
        "\n",
        "history_dict = history.history\n",
        "loss_values = history_dict['loss']\n",
        "val_loss_values = history_dict['val_loss']\n",
        "acc = history.history['acc']\n",
        "epochs = range(1, len(acc) + 1)\n",
        "plt.plot(epochs, loss_values, 'bo', label='Training loss')\n",
        "plt.plot(epochs, val_loss_values, 'b', label='Validation loss')\n",
        "plt.title('Training and validation loss')\n",
        "plt.xlabel('Epochs')\n",
        "plt.ylabel('Loss')\n",
        "plt.legend()\n",
        "plt.show()"
      ],
      "execution_count": 68,
      "outputs": [
        {
          "output_type": "display_data",
          "data": {
            "image/png": "[encoded data removed]",
            "text/plain": [
              "<Figure size 432x288 with 1 Axes>"
            ]
          },
          "metadata": {
            "tags": [],
            "needs_background": "light"
          }
        }
      ]
    },
    {
      "cell_type": "markdown",
      "metadata": {
        "id": "oVTZysfk4f2D"
      },
      "source": [
        "##Plotting the traning and validation accuracy"
      ]
    },
    {
      "cell_type": "code",
      "metadata": {
        "colab": {
          "base_uri": "https://localhost:8080/",
          "height": 295
        },
        "id": "DUeUI_1W2yux",
        "outputId": "dcde0968-17a3-4f01-8777-7f45e54adb1a"
      },
      "source": [
        "plt.clf()\n",
        "acc_values = history_dict['acc']\n",
        "val_acc_values = history_dict['val_acc']\n",
        "plt.plot(epochs, acc, 'bo', label='Training acc')\n",
        "val_acc = history.history['val_acc']\n",
        "plt.plot(epochs, val_acc, 'b', label='Validation acc')\n",
        "plt.title('Training and validation accuracy')\n",
        "plt.xlabel('Epochs')\n",
        "plt.ylabel('Loss')\n",
        "plt.legend()\n",
        "plt.show()"
      ],
      "execution_count": 67,
      "outputs": [
        {
          "output_type": "display_data",
          "data": {
            "image/png": "[encoded data removed]",
            "text/plain": [
              "<Figure size 432x288 with 1 Axes>"
            ]
          },
          "metadata": {
            "tags": [],
            "needs_background": "light"
          }
        }
      ]
    },
    {
      "cell_type": "code",
      "metadata": {
        "id": "SG_9ufUJ3prh"
      },
      "source": [
        "## clearly overfitting"
      ],
      "execution_count": 69,
      "outputs": []
    },
    {
      "cell_type": "code",
      "metadata": {
        "id": "IJoSef0v4_B5"
      },
      "source": [
        ""
      ],
      "execution_count": null,
      "outputs": []
    }
  ]
}